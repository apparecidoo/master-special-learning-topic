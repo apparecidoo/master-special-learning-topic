{
 "cells": [
  {
   "cell_type": "code",
   "execution_count": 86,
   "metadata": {},
   "outputs": [],
   "source": [
    "def matrix (matrix_a, matrix_b):\n",
    "    def multiplication():\n",
    "        rows_a = len(matrix_a)\n",
    "        cols_a = len(matrix_a[0])\n",
    "        rows_b = len(matrix_b)\n",
    "        cols_b = len(matrix_b[0])\n",
    "\n",
    "        if cols_a != rows_b:\n",
    "          print(\"Incorrect dimensions.\")\n",
    "          return\n",
    "\n",
    "        result = [[0 for row in range(cols_b)] for col in range(rows_a)] #creating result\n",
    "\n",
    "        for i in range(rows_a):\n",
    "            for j in range(cols_b):\n",
    "                for k in range(cols_a):\n",
    "                    result[i][j] += matrix_a[i][k] * matrix_b[k][j]\n",
    "        return result\n",
    "    \n",
    "    def invert_matrix(tol=None):\n",
    "        \"\"\"\n",
    "        Returns the inverse of the passed in matrix.\n",
    "            :param A: The matrix to be inversed\n",
    "\n",
    "            :return: The inverse of the matrix A\n",
    "        \"\"\"\n",
    "        # Section 1: Make sure A can be inverted.\n",
    "        check_squareness(matrix_a)\n",
    "        check_non_singular(matrix_a)\n",
    "\n",
    "        # Section 2: Make copies of A & I, AM & IM, to use for row ops\n",
    "        n = len(matrix_a)\n",
    "        AM = copy_matrix(matrix_a)\n",
    "        I = identity_matrix(n)\n",
    "        IM = copy_matrix(I)\n",
    "\n",
    "        # Section 3: Perform row operations\n",
    "        indices = list(range(n)) # to allow flexible row referencing ***\n",
    "        for fd in range(n): # fd stands for focus diagonal\n",
    "            fdScaler = 1.0 / AM[fd][fd]\n",
    "            # FIRST: scale fd row with fd inverse. \n",
    "            for j in range(n): # Use j to indicate column looping.\n",
    "                AM[fd][j] *= fdScaler\n",
    "                IM[fd][j] *= fdScaler\n",
    "            # SECOND: operate on all rows except fd row as follows:\n",
    "            for i in indices[0:fd] + indices[fd+1:]: \n",
    "                # *** skip row with fd in it.\n",
    "                crScaler = AM[i][fd] # cr stands for \"current row\".\n",
    "                for j in range(n): \n",
    "                    # cr - crScaler * fdRow, but one element at a time.\n",
    "                    AM[i][j] = AM[i][j] - crScaler * AM[fd][j]\n",
    "                    IM[i][j] = IM[i][j] - crScaler * IM[fd][j]\n",
    "\n",
    "        # Section 4: Make sure IM is an inverse of A with specified tolerance\n",
    "        if check_matrix_equality(I,matrix_multiply(A,IM),tol):\n",
    "            return IM\n",
    "        else:\n",
    "            raise ArithmeticError(\"Matrix inverse out of tolerance.\")\n",
    "    \n",
    "    return multiplication, invert_matrix;"
   ]
  },
  {
   "cell_type": "code",
   "execution_count": 92,
   "metadata": {},
   "outputs": [
    {
     "ename": "NameError",
     "evalue": "name 'check_squareness' is not defined",
     "output_type": "error",
     "traceback": [
      "\u001b[1;31m---------------------------------------------------------------------------\u001b[0m",
      "\u001b[1;31mNameError\u001b[0m                                 Traceback (most recent call last)",
      "\u001b[1;32m<ipython-input-92-c951834aeb91>\u001b[0m in \u001b[0;36m<module>\u001b[1;34m\u001b[0m\n\u001b[0;32m      8\u001b[0m \u001b[0mmult\u001b[0m\u001b[1;33m,\u001b[0m \u001b[0mtest\u001b[0m \u001b[1;33m=\u001b[0m \u001b[0mmatrix\u001b[0m\u001b[1;33m(\u001b[0m\u001b[0mmatrix_a\u001b[0m\u001b[1;33m,\u001b[0m \u001b[0mmatrix_b\u001b[0m\u001b[1;33m)\u001b[0m\u001b[1;33m\u001b[0m\u001b[1;33m\u001b[0m\u001b[0m\n\u001b[0;32m      9\u001b[0m \u001b[0mmult\u001b[0m\u001b[1;33m(\u001b[0m\u001b[1;33m)\u001b[0m\u001b[1;33m\u001b[0m\u001b[1;33m\u001b[0m\u001b[0m\n\u001b[1;32m---> 10\u001b[1;33m \u001b[0mtest\u001b[0m\u001b[1;33m(\u001b[0m\u001b[1;33m)\u001b[0m\u001b[1;33m\u001b[0m\u001b[1;33m\u001b[0m\u001b[0m\n\u001b[0m",
      "\u001b[1;32m<ipython-input-86-583ce342688c>\u001b[0m in \u001b[0;36minvert_matrix\u001b[1;34m(tol)\u001b[0m\n\u001b[0;32m     26\u001b[0m         \"\"\"\n\u001b[0;32m     27\u001b[0m         \u001b[1;31m# Section 1: Make sure A can be inverted.\u001b[0m\u001b[1;33m\u001b[0m\u001b[1;33m\u001b[0m\u001b[1;33m\u001b[0m\u001b[0m\n\u001b[1;32m---> 28\u001b[1;33m         \u001b[0mcheck_squareness\u001b[0m\u001b[1;33m(\u001b[0m\u001b[0mmatrix_a\u001b[0m\u001b[1;33m)\u001b[0m\u001b[1;33m\u001b[0m\u001b[1;33m\u001b[0m\u001b[0m\n\u001b[0m\u001b[0;32m     29\u001b[0m         \u001b[0mcheck_non_singular\u001b[0m\u001b[1;33m(\u001b[0m\u001b[0mmatrix_a\u001b[0m\u001b[1;33m)\u001b[0m\u001b[1;33m\u001b[0m\u001b[1;33m\u001b[0m\u001b[0m\n\u001b[0;32m     30\u001b[0m \u001b[1;33m\u001b[0m\u001b[0m\n",
      "\u001b[1;31mNameError\u001b[0m: name 'check_squareness' is not defined"
     ]
    }
   ],
   "source": [
    "matrix_a = [[12,7,3],\n",
    "            [4 ,5,6],\n",
    "            [7 ,8,9]]\n",
    "# 3x4 matrix\n",
    "matrix_b = [[5,8,1,2],\n",
    "            [6,7,3,0],\n",
    "            [4,5,9,1]]\n",
    "mult, test = matrix(matrix_a, matrix_b)\n",
    "mult()\n",
    "test()"
   ]
  }
 ],
 "metadata": {
  "kernelspec": {
   "display_name": "Python 3",
   "language": "python",
   "name": "python3"
  },
  "language_info": {
   "codemirror_mode": {
    "name": "ipython",
    "version": 3
   },
   "file_extension": ".py",
   "mimetype": "text/x-python",
   "name": "python",
   "nbconvert_exporter": "python",
   "pygments_lexer": "ipython3",
   "version": "3.7.1"
  }
 },
 "nbformat": 4,
 "nbformat_minor": 2
}
